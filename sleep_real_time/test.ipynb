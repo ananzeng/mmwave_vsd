{
 "cells": [
  {
   "cell_type": "code",
   "execution_count": 2,
   "metadata": {},
   "outputs": [
    {
     "name": "stdout",
     "output_type": "stream",
     "text": [
      "[0. 2. 0. 0. 0. 0.]\n"
     ]
    }
   ],
   "source": [
    "import numpy as np\n",
    "ak_array = np.zeros(6)\n",
    "ak_array[1] = 2\n",
    "print(ak_array)"
   ]
  },
  {
   "cell_type": "code",
   "execution_count": 16,
   "metadata": {},
   "outputs": [
    {
     "name": "stdout",
     "output_type": "stream",
     "text": [
      "5\n",
      "3\n",
      "[[13 12  1  2  3  4  5  6  7  8  9 10 11]]\n"
     ]
    }
   ],
   "source": [
    "import numpy as np\n",
    "cc = []\n",
    "aa = [1, 2, 3, 4, 5, 6, 7, 8, 9, 10, 11, 12, 13]\n",
    "cc.append(aa[12])\n",
    "cc.append(aa[11])\n",
    "cc[2:13] = aa[0:11]\n",
    "bb = aa[2]\n",
    "aa[2] = aa[4]\n",
    "aa[4] = bb\n",
    "print(aa[2])\n",
    "print(aa[4])\n",
    "print(np.array(cc).reshape(1, -1))"
   ]
  },
  {
   "cell_type": "markdown",
   "metadata": {},
   "source": []
  },
  {
   "cell_type": "code",
   "execution_count": 18,
   "metadata": {},
   "outputs": [
    {
     "name": "stdout",
     "output_type": "stream",
     "text": [
      "3\n"
     ]
    }
   ],
   "source": [
    "d = [3.]\n",
    "print(int(d[0]))"
   ]
  },
  {
   "cell_type": "code",
   "execution_count": null,
   "metadata": {},
   "outputs": [],
   "source": []
  }
 ],
 "metadata": {
  "interpreter": {
   "hash": "610d0c7c23f3d50c0569ccff1930cb85b26f340427a0090afb3d996642f120d0"
  },
  "kernelspec": {
   "display_name": "Python 3.7.11 ('env_radar')",
   "language": "python",
   "name": "python3"
  },
  "language_info": {
   "codemirror_mode": {
    "name": "ipython",
    "version": 3
   },
   "file_extension": ".py",
   "mimetype": "text/x-python",
   "name": "python",
   "nbconvert_exporter": "python",
   "pygments_lexer": "ipython3",
   "version": "3.7.11"
  },
  "orig_nbformat": 4
 },
 "nbformat": 4,
 "nbformat_minor": 2
}
